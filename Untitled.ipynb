{
 "cells": [
  {
   "cell_type": "code",
   "execution_count": 28,
   "metadata": {},
   "outputs": [],
   "source": [
    "def threeSum(nums):   \n",
    "        nums.sort()\n",
    "        l, r = 0, len(nums)-1\n",
    "        \n",
    "        s = nums[l] + nums[r]\n",
    "        results = []\n",
    "        \n",
    "        while l < r:\n",
    "            if s == target:\n",
    "                results.append([nums[l], nums[r]])\n",
    "                l += 1\n",
    "                while l < r and nums[l+1] == nums[l]:\n",
    "                    l += 1\n",
    "            elif s > target:\n",
    "                r -= 1\n",
    "            else:\n",
    "                l += 1\n",
    "            print(l, r)\n",
    "        return results\n",
    "       "
   ]
  },
  {
   "cell_type": "code",
   "execution_count": 29,
   "metadata": {},
   "outputs": [],
   "source": [
    "nums= [-1, 0, 1, 2, -1, -4]\n",
    "target = 0"
   ]
  },
  {
   "cell_type": "code",
   "execution_count": 30,
   "metadata": {},
   "outputs": [
    {
     "name": "stdout",
     "output_type": "stream",
     "text": [
      "1 5\n",
      "2 5\n",
      "3 5\n",
      "4 5\n",
      "5 5\n"
     ]
    },
    {
     "data": {
      "text/plain": [
       "[]"
      ]
     },
     "execution_count": 30,
     "metadata": {},
     "output_type": "execute_result"
    }
   ],
   "source": [
    "twoSum(nums, target)"
   ]
  },
  {
   "cell_type": "code",
   "execution_count": null,
   "metadata": {},
   "outputs": [],
   "source": [
    "def threeSum(nums):\n",
    "        \"\"\"\n",
    "        :type nums: List[int]\n",
    "        :rtype: List[List[int]]\n",
    "        \"\"\"\n",
    "        nums.sort()\n",
    "        N, result = len(nums), []\n",
    "        for i in range(N):\n",
    "            if i > 0 and nums[i] == nums[i-1]:\n",
    "                continue\n",
    "            target = nums[i]*-1\n",
    "            s,e = i+1, N-1\n",
    "            while s<e:\n",
    "                if nums[s]+nums[e] == target:\n",
    "                    result.append([nums[i], nums[s], nums[e]])\n",
    "                    s = s+1\n",
    "                    while s<e and nums[s] == nums[s-1]:\n",
    "                        s = s+1\n",
    "                elif nums[s] + nums[e] < target:\n",
    "                    s = s+1\n",
    "                else:\n",
    "                    e = e-1\n",
    "                print(s, e)\n",
    "        return result\n",
    "            "
   ]
  },
  {
   "cell_type": "code",
   "execution_count": 66,
   "metadata": {},
   "outputs": [
    {
     "data": {
      "text/plain": [
       "[-1, 0, 1, 2, -1, -4]"
      ]
     },
     "execution_count": 66,
     "metadata": {},
     "output_type": "execute_result"
    }
   ],
   "source": [
    "nums= [-1, 0, 1, 2, -1, -4]\n",
    "nums"
   ]
  },
  {
   "cell_type": "code",
   "execution_count": 67,
   "metadata": {},
   "outputs": [
    {
     "name": "stdout",
     "output_type": "stream",
     "text": [
      "1 5\n",
      "1 4\n",
      "2 4\n",
      "3 4\n",
      "3 3\n"
     ]
    },
    {
     "data": {
      "text/plain": [
       "[-4, -1, -1, 0, 1, 2]"
      ]
     },
     "execution_count": 67,
     "metadata": {},
     "output_type": "execute_result"
    }
   ],
   "source": [
    "threeSum(nums)\n",
    "nums"
   ]
  },
  {
   "cell_type": "code",
   "execution_count": 86,
   "metadata": {},
   "outputs": [],
   "source": [
    "def findNSum(nums, target, N, results):\n",
    "            nums = sorted(nums)\n",
    "            print(nums)\n",
    "            if N == 2:\n",
    "                l, r = 0, len(nums) - 1\n",
    "                while l < r:\n",
    "                    s = nums[l] + nums[r]\n",
    "                    if s == target:\n",
    "                        results.append([nums[l], nums[r]])\n",
    "                        l += 1\n",
    "                        while l < r and nums[l] == nums[l - 1]:\n",
    "                            l += 1\n",
    "                    elif s < target:\n",
    "                        l += 1\n",
    "                    else:\n",
    "                        r -= 1\n",
    "                    print(l, r)\n",
    "                    print(nums)\n",
    "            return results"
   ]
  },
  {
   "cell_type": "code",
   "execution_count": 87,
   "metadata": {},
   "outputs": [
    {
     "name": "stdout",
     "output_type": "stream",
     "text": [
      "[-4, -1, -1, 0, 1, 2]\n",
      "1 5\n",
      "[-4, -1, -1, 0, 1, 2]\n",
      "1 4\n",
      "[-4, -1, -1, 0, 1, 2]\n",
      "3 4\n",
      "[-4, -1, -1, 0, 1, 2]\n",
      "3 3\n",
      "[-4, -1, -1, 0, 1, 2]\n"
     ]
    }
   ],
   "source": [
    "res =findNSum(nums, target=0, N=2, results=[])"
   ]
  },
  {
   "cell_type": "code",
   "execution_count": 88,
   "metadata": {},
   "outputs": [
    {
     "data": {
      "text/plain": [
       "[[-1, 1]]"
      ]
     },
     "execution_count": 88,
     "metadata": {},
     "output_type": "execute_result"
    }
   ],
   "source": [
    "res"
   ]
  },
  {
   "cell_type": "code",
   "execution_count": null,
   "metadata": {},
   "outputs": [],
   "source": [
    "def threeSum(nums):      \n",
    "    nums = sorted(nums)\n",
    "    l, r = 0, len(nums)-1      \n",
    "    results = []       \n",
    "    while l < r:\n",
    "        s = nums[l] + nums[r]\n",
    "        if s == target:\n",
    "            results.append([nums[l], nums[r]])\n",
    "            l += 1\n",
    "            while l < r and nums[l] == nums[l-1]:\n",
    "                    l += 1\n",
    "            elif s > target:\n",
    "                r -= 1\n",
    "            else:\n",
    "                l += 1\n",
    "        return results\n",
    "       "
   ]
  },
  {
   "cell_type": "code",
   "execution_count": null,
   "metadata": {},
   "outputs": [],
   "source": [
    "def threeSum(self, nums):\n",
    "        \"\"\"\n",
    "        :type nums: List[int]\n",
    "        :rtype: List[List[int]]\n",
    "        \"\"\"\n",
    "        nums.sort()\n",
    "        results = []\n",
    "        if len(nums) < 3:\n",
    "            return []\n",
    "        for i in range(len(nums) - 2):\n",
    "            target = -nums[i]\n",
    "            r, l = i + 1, len(nums) - 1\n",
    "            if i > 0 and nums[i] == nums[i-1]:\n",
    "                continue\n",
    "            while r < l:\n",
    "                s = nums[r] + nums[l]\n",
    "                if s == target:\n",
    "                    results.append([nums[i], nums[r], nums[l]])\n",
    "                    l += 1\n",
    "                    while r < l and nums[i] == nums[i-1]:\n",
    "                        l += 1\n",
    "                elif s > target:\n",
    "                    r -= 1\n",
    "                else:\n",
    "                    l += 1\n",
    "        return results\n",
    "            "
   ]
  },
  {
   "cell_type": "code",
   "execution_count": null,
   "metadata": {},
   "outputs": [],
   "source": [
    "res = threeSum(nums)"
   ]
  },
  {
   "cell_type": "code",
   "execution_count": null,
   "metadata": {},
   "outputs": [],
   "source": []
  },
  {
   "cell_type": "code",
   "execution_count": null,
   "metadata": {},
   "outputs": [],
   "source": []
  }
 ],
 "metadata": {
  "kernelspec": {
   "display_name": "Python 3",
   "language": "python",
   "name": "python3"
  },
  "language_info": {
   "codemirror_mode": {
    "name": "ipython",
    "version": 3
   },
   "file_extension": ".py",
   "mimetype": "text/x-python",
   "name": "python",
   "nbconvert_exporter": "python",
   "pygments_lexer": "ipython3",
   "version": "3.6.5"
  }
 },
 "nbformat": 4,
 "nbformat_minor": 2
}
